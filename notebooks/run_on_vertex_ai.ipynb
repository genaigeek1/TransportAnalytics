{
 "cells": [
  {
   "cell_type": "markdown",
   "id": "ab60159d",
   "metadata": {},
   "source": [
    "# 🚀 Execute TransportAnalytics on Vertex AI Notebook\n",
    "This notebook guides you through running the full Vertex AI ML workflow."
   ]
  },
  {
   "cell_type": "markdown",
   "id": "49b577af",
   "metadata": {},
   "source": [
    "## 1️⃣ Clone the Repository"
   ]
  },
  {
   "cell_type": "code",
   "execution_count": null,
   "id": "14c5fcf6",
   "metadata": {},
   "outputs": [],
   "source": [
    "!git clone https://github.com/YOUR_USERNAME/TransportAnalytics.git\n",
    "%cd TransportAnalytics"
   ]
  },
  {
   "cell_type": "markdown",
   "id": "f19dede7",
   "metadata": {},
   "source": [
    "## 2️⃣ Install Dependencies"
   ]
  },
  {
   "cell_type": "code",
   "execution_count": null,
   "id": "cd8ea5d6",
   "metadata": {},
   "outputs": [],
   "source": [
    "!pip install -r requirements.txt"
   ]
  },
  {
   "cell_type": "markdown",
   "id": "ea66774a",
   "metadata": {},
   "source": [
    "## 3️⃣ Upload Dataset to GCS (Optional First-time Only)"
   ]
  },
  {
   "cell_type": "code",
   "execution_count": null,
   "id": "66b338e4",
   "metadata": {},
   "outputs": [],
   "source": [
    "!gsutil cp preprocessing/merged_feature_data.csv gs://mta-ridership-data/inputs/merged_feature_data.csv"
   ]
  },
  {
   "cell_type": "markdown",
   "id": "8870bfb0",
   "metadata": {},
   "source": [
    "## 4️⃣ Run Feature Engineering"
   ]
  },
  {
   "cell_type": "code",
   "execution_count": null,
   "id": "ff97756a",
   "metadata": {},
   "outputs": [],
   "source": [
    "!python preprocessing/feature_engineering.py"
   ]
  },
  {
   "cell_type": "markdown",
   "id": "5de04332",
   "metadata": {},
   "source": [
    "## 5️⃣ Train and Upload Models"
   ]
  },
  {
   "cell_type": "code",
   "execution_count": null,
   "id": "d760a1db",
   "metadata": {},
   "outputs": [],
   "source": [
    "!python training/train_ridership_model.py"
   ]
  },
  {
   "cell_type": "code",
   "execution_count": null,
   "id": "85a9ac21",
   "metadata": {},
   "outputs": [],
   "source": [
    "!python training/train_mode_classifier.py"
   ]
  },
  {
   "cell_type": "markdown",
   "id": "a5be452c",
   "metadata": {},
   "source": [
    "## 6️⃣ Compile and Run Vertex AI Pipeline"
   ]
  },
  {
   "cell_type": "code",
   "execution_count": null,
   "id": "1bd41cc0",
   "metadata": {},
   "outputs": [],
   "source": [
    "from google.cloud import aiplatform\n",
    "from google.cloud.aiplatform.pipeline_jobs import PipelineJob\n",
    "\n",
    "aiplatform.init(project=\"gps-ax-lakehouse\", location=\"us-central1\")\n",
    "\n",
    "pipeline_job = PipelineJob(\n",
    "    display_name=\"ridership-pipeline\",\n",
    "    template_path=\"pipeline/vertex_ridership_pipeline.json\",\n",
    "    enable_caching=True\n",
    ")\n",
    "pipeline_job.run()"
   ]
  },
  {
   "cell_type": "markdown",
   "id": "8473d1d0",
   "metadata": {},
   "source": [
    "## 7️⃣ Run Batch Prediction to BigQuery"
   ]
  },
  {
   "cell_type": "code",
   "execution_count": null,
   "id": "7b398dca",
   "metadata": {},
   "outputs": [],
   "source": [
    "!python deployment/batch_prediction_gcs_to_bq.py"
   ]
  },
  {
   "cell_type": "markdown",
   "id": "ab60f8aa",
   "metadata": {},
   "source": [
    "## 8️⃣ Create BigQuery View for Looker Studio"
   ]
  },
  {
   "cell_type": "code",
   "execution_count": null,
   "id": "7494461a",
   "metadata": {},
   "outputs": [],
   "source": [
    "%%bigquery --project gps-ax-lakehouse\n",
    "CREATE OR REPLACE VIEW `gps-ax-lakehouse.ridership_analytics.ridership_predictions_view` AS\n",
    "SELECT\n",
    "  *,\n",
    "  FORMAT_DATE('%Y-%m-%d', DATE(batch_run_time)) AS prediction_date,\n",
    "  CASE\n",
    "    WHEN predicted_ridership > 1000 THEN 'High'\n",
    "    WHEN predicted_ridership > 500 THEN 'Medium'\n",
    "    ELSE 'Low'\n",
    "  END AS ridership_category\n",
    "FROM\n",
    "  `gps-ax-lakehouse.ridership_analytics.batch_predictions`;"
   ]
  },
  {
   "cell_type": "markdown",
   "id": "a848bdbf",
   "metadata": {},
   "source": [
    "## 9️⃣ Connect BigQuery View to Looker Studio\n",
    "Use [Looker Studio](https://lookerstudio.google.com/) → Connect BigQuery → `gps-ax-lakehouse.ridership_analytics.ridership_predictions_view`"
   ]
  }
 ],
 "metadata": {},
 "nbformat": 4,
 "nbformat_minor": 5
}
