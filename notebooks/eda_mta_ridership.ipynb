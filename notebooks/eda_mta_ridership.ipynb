{
 "cells": [
  {
   "cell_type": "markdown",
   "id": "e9f6f7a9",
   "metadata": {},
   "source": [
    "# 🧪 Exploratory Data Analysis: MTA Ridership Dataset\n",
    "This notebook performs exploratory data analysis on the Metropolitan Transportation Authority (MTA) dataset to identify key features for ML modeling."
   ]
  },
  {
   "cell_type": "code",
   "execution_count": null,
   "id": "1a413947",
   "metadata": {},
   "outputs": [],
   "source": [
    "# 📦 Install dependencies (uncomment if needed)\n",
    "# !pip install pandas matplotlib seaborn"
   ]
  },
  {
   "cell_type": "code",
   "execution_count": null,
   "id": "ca54558e",
   "metadata": {},
   "outputs": [],
   "source": [
    "# 📚 Import libraries\n",
    "import pandas as pd\n",
    "import matplotlib.pyplot as plt\n",
    "import seaborn as sns\n",
    "sns.set(style='whitegrid')"
   ]
  },
  {
   "cell_type": "code",
   "execution_count": null,
   "id": "6df32805",
   "metadata": {},
   "outputs": [],
   "source": [
    "# 📥 Load dataset\n",
    "# Replace the path with your actual data file path\n",
    "df = pd.read_csv('../data_ingestion/mta_data/your_mta_file.csv')\n",
    "df.head()"
   ]
  },
  {
   "cell_type": "code",
   "execution_count": null,
   "id": "8fd4237b",
   "metadata": {},
   "outputs": [],
   "source": [
    "# ℹ️ Basic dataset information\n",
    "df.info()"
   ]
  },
  {
   "cell_type": "code",
   "execution_count": null,
   "id": "41886817",
   "metadata": {},
   "outputs": [],
   "source": [
    "# 📊 Summary statistics\n",
    "df.describe(include='all')"
   ]
  },
  {
   "cell_type": "code",
   "execution_count": null,
   "id": "29bb57eb",
   "metadata": {},
   "outputs": [],
   "source": [
    "# ❓ Check for missing values\n",
    "df.isnull().sum()"
   ]
  },
  {
   "cell_type": "code",
   "execution_count": null,
   "id": "fe1de5dd",
   "metadata": {},
   "outputs": [],
   "source": [
    "# 📅 Convert date column if available\n",
    "if 'date' in df.columns:\n",
    "    df['date'] = pd.to_datetime(df['date'])"
   ]
  },
  {
   "cell_type": "code",
   "execution_count": null,
   "id": "5ec9f7b7",
   "metadata": {},
   "outputs": [],
   "source": [
    "# 📈 Monthly ridership trend (if date and ridership columns exist)\n",
    "if 'date' in df.columns and 'ridership' in df.columns:\n",
    "    df.set_index('date').resample('M')['ridership'].sum().plot(figsize=(12,6), title='Monthly Ridership Over Time')\n",
    "    plt.ylabel('Total Ridership')\n",
    "    plt.xlabel('Date')\n",
    "    plt.show()"
   ]
  },
  {
   "cell_type": "code",
   "execution_count": null,
   "id": "7c01f6bb",
   "metadata": {},
   "outputs": [],
   "source": [
    "# 🏙️ Top stations by ridership (if station column exists)\n",
    "if 'station' in df.columns and 'ridership' in df.columns:\n",
    "    df.groupby('station')['ridership'].sum().sort_values(ascending=False).head(10).plot(kind='bar', figsize=(10,6), title='Top 10 Stations by Ridership')\n",
    "    plt.ylabel('Total Ridership')\n",
    "    plt.xlabel('Station')\n",
    "    plt.xticks(rotation=45)\n",
    "    plt.show()"
   ]
  }
 ],
 "metadata": {},
 "nbformat": 4,
 "nbformat_minor": 5
}
