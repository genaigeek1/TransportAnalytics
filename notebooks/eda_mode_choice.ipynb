{
 "cells": [
  {
   "cell_type": "markdown",
   "id": "9ef8cd2f",
   "metadata": {},
   "source": [
    "# 🚦 Mode Choice Analysis: Multimodal Transport Dataset\n",
    "This notebook explores the factors influencing transportation mode choices such as weather, fare, duration, and distance."
   ]
  },
  {
   "cell_type": "code",
   "execution_count": null,
   "id": "7192bd07",
   "metadata": {},
   "outputs": [],
   "source": [
    "# 📦 Install dependencies (if running locally)\n",
    "# !pip install pandas matplotlib seaborn"
   ]
  },
  {
   "cell_type": "code",
   "execution_count": null,
   "id": "f8c8c32b",
   "metadata": {},
   "outputs": [],
   "source": [
    "# 📚 Import libraries\n",
    "import pandas as pd\n",
    "import matplotlib.pyplot as plt\n",
    "import seaborn as sns\n",
    "sns.set(style='whitegrid')"
   ]
  },
  {
   "cell_type": "code",
   "execution_count": null,
   "id": "a42ad93c",
   "metadata": {},
   "outputs": [],
   "source": [
    "# 📥 Load dataset\n",
    "# Replace with your actual file path\n",
    "df = pd.read_csv('../data_ingestion/multimodal_data/your_mode_choice_file.csv')\n",
    "df.head()"
   ]
  },
  {
   "cell_type": "code",
   "execution_count": null,
   "id": "46a75c58",
   "metadata": {},
   "outputs": [],
   "source": [
    "# ℹ️ Dataset overview\n",
    "df.info()\n",
    "df.describe(include='all')"
   ]
  },
  {
   "cell_type": "code",
   "execution_count": null,
   "id": "48bc4a20",
   "metadata": {},
   "outputs": [],
   "source": [
    "# ❓ Missing values check\n",
    "df.isnull().sum()"
   ]
  },
  {
   "cell_type": "code",
   "execution_count": null,
   "id": "d8cdd05f",
   "metadata": {},
   "outputs": [],
   "source": [
    "# 🚗 Mode distribution\n",
    "if 'mode' in df.columns:\n",
    "    df['mode'].value_counts().plot(kind='bar', figsize=(10,5), title='Transport Mode Distribution')\n",
    "    plt.ylabel('Count')\n",
    "    plt.xlabel('Mode')\n",
    "    plt.xticks(rotation=45)\n",
    "    plt.show()"
   ]
  },
  {
   "cell_type": "code",
   "execution_count": null,
   "id": "e6194296",
   "metadata": {},
   "outputs": [],
   "source": [
    "# 🌦️ Weather impact on mode choice (if columns exist)\n",
    "if 'weather' in df.columns and 'mode' in df.columns:\n",
    "    sns.countplot(x='weather', hue='mode', data=df)\n",
    "    plt.title('Weather vs Mode Choice')\n",
    "    plt.xticks(rotation=45)\n",
    "    plt.show()"
   ]
  },
  {
   "cell_type": "code",
   "execution_count": null,
   "id": "bbf795ce",
   "metadata": {},
   "outputs": [],
   "source": [
    "# ⏱️ Trip duration and fare by mode\n",
    "if 'duration' in df.columns and 'mode' in df.columns:\n",
    "    sns.boxplot(x='mode', y='duration', data=df)\n",
    "    plt.title('Trip Duration by Mode')\n",
    "    plt.xticks(rotation=45)\n",
    "    plt.show()\n",
    "\n",
    "if 'fare' in df.columns and 'mode' in df.columns:\n",
    "    sns.boxplot(x='mode', y='fare', data=df)\n",
    "    plt.title('Fare by Mode')\n",
    "    plt.xticks(rotation=45)\n",
    "    plt.show()"
   ]
  }
 ],
 "metadata": {},
 "nbformat": 4,
 "nbformat_minor": 5
}
